{
 "cells": [
  {
   "cell_type": "code",
   "execution_count": null,
   "id": "dd4d422d-fba9-41e8-bc4e-474ebf256a03",
   "metadata": {},
   "outputs": [],
   "source": [
    " Q1)  who developed python programming language\n",
    " Ans:  Guido van Rossum\n",
    "    "
   ]
  },
  {
   "cell_type": "code",
   "execution_count": null,
   "id": "11ded83e-770a-4c21-858d-0035ec52a970",
   "metadata": {},
   "outputs": [],
   "source": [
    " Q2)   which type of programming does python support\n",
    " Ans:  object oriented programming and structured programming language support by python"
   ]
  },
  {
   "cell_type": "code",
   "execution_count": null,
   "id": "bd1bff6f-d7e4-4fba-af79-f4e57be7ea5c",
   "metadata": {},
   "outputs": [],
   "source": [
    " Q3)   Is python is case sensitive when dealing with identifiers\n",
    " Ans:  Python is case sensitive it applies on identifiers too"
   ]
  },
  {
   "cell_type": "code",
   "execution_count": null,
   "id": "e8fbdb55-0690-4ed3-a962-3aaf00add2fb",
   "metadata": {},
   "outputs": [],
   "source": [
    " Q4)   what is the current extension of python file\n",
    " Ans:  .py"
   ]
  },
  {
   "cell_type": "code",
   "execution_count": null,
   "id": "d91d676a-7400-475e-ae70-950a3a91f4fa",
   "metadata": {},
   "outputs": [],
   "source": [
    " Q5)  Is python file compiled or interpreted\n",
    " Ans:the python program is first compiled and then interpreted."
   ]
  },
  {
   "cell_type": "code",
   "execution_count": null,
   "id": "78a89498-06d8-4bdd-ad6d-2464866afd9c",
   "metadata": {},
   "outputs": [],
   "source": [
    " Q6)  Name a few block of code used to define in python programming language\n",
    " Ans: Indentation is used to define a block of code in python."
   ]
  },
  {
   "cell_type": "code",
   "execution_count": null,
   "id": "7413adde-e2ab-4f46-8d6c-231d2af78be5",
   "metadata": {},
   "outputs": [],
   "source": [
    " Q7)  state a character used to give a single line comment\n",
    " Ans): Hash charcter (#)"
   ]
  },
  {
   "cell_type": "code",
   "execution_count": null,
   "id": "75beab1c-5a60-40bd-9c3c-cbea867790d6",
   "metadata": {},
   "outputs": [],
   "source": [
    " Q8)   mention a function which help us to find the version of python that we are currently working on\n",
    " Ans): function sys.version"
   ]
  },
  {
   "cell_type": "code",
   "execution_count": null,
   "id": "b32d8697-16bc-49c0-b0ac-50a86480dfa7",
   "metadata": {},
   "outputs": [],
   "source": [
    " Q9) python supports the creation of anonymous functions at runtime uses a construct called \n",
    " Ans): lambda"
   ]
  },
  {
   "cell_type": "code",
   "execution_count": null,
   "id": "38ea3710-27a8-4365-8eaa-7bbd4fbf53e8",
   "metadata": {},
   "outputs": [],
   "source": [
    " Q10) what does pip stand for python\n",
    " Ans): prefred installer program\n",
    "    "
   ]
  },
  {
   "cell_type": "code",
   "execution_count": null,
   "id": "8034774c-5b37-48a0-b9ba-f551e155e436",
   "metadata": {},
   "outputs": [],
   "source": [
    " Q11) mention a few builtin functions in python\n",
    " Ans): print( ) function\n",
    "       type( ) function\n",
    "       input( ) function\n",
    "       len() fumction"
   ]
  },
  {
   "cell_type": "code",
   "execution_count": null,
   "id": "b90d58a2-d10b-4d8c-83ba-e59b709358a6",
   "metadata": {},
   "outputs": [],
   "source": [
    " Q12) what is the maximum possible length of an identifier in python\n",
    " Ans): An identifier can have a maximum length of 79 characters in Python."
   ]
  },
  {
   "cell_type": "code",
   "execution_count": null,
   "id": "f293ef75-7568-42c7-bd2e-60b14436c63b",
   "metadata": {},
   "outputs": [],
   "source": [
    " Q13) what are the benefits of using python\n",
    " Ans): Versatile, Easy to read, learn and write\n",
    "       Open source and large active community base "
   ]
  },
  {
   "cell_type": "code",
   "execution_count": null,
   "id": "b640aba2-2937-4fc8-81ba-ce7f0c33f5d0",
   "metadata": {},
   "outputs": [],
   "source": [
    " Q14) how is memory managed in python\n",
    " Ans): Memory management in Python involves a private heap containing all Python objects and data structures"
   ]
  },
  {
   "cell_type": "code",
   "execution_count": null,
   "id": "4bbade62-bfb9-4017-98bc-cc3a79601821",
   "metadata": {},
   "outputs": [],
   "source": [
    " Q15) how to install python on windows and set path variable\n",
    " Ans):Step 1: Download the Python Installer binaries. \n",
    "Step 2: Run the Executable Installer.\n",
    "Step 3: Add Python to environmental variables.\n",
    "Step 4: Verify the Python Installation."
   ]
  },
  {
   "cell_type": "code",
   "execution_count": null,
   "id": "8678c41d-a7b2-4f29-a6a1-26839235b4ca",
   "metadata": {},
   "outputs": [],
   "source": [
    " Q16) is intendentation required in python\n",
    " Ans): yes intendenation required in python"
   ]
  }
 ],
 "metadata": {
  "kernelspec": {
   "display_name": "Python 3 (ipykernel)",
   "language": "python",
   "name": "python3"
  },
  "language_info": {
   "codemirror_mode": {
    "name": "ipython",
    "version": 3
   },
   "file_extension": ".py",
   "mimetype": "text/x-python",
   "name": "python",
   "nbconvert_exporter": "python",
   "pygments_lexer": "ipython3",
   "version": "3.10.8"
  }
 },
 "nbformat": 4,
 "nbformat_minor": 5
}
